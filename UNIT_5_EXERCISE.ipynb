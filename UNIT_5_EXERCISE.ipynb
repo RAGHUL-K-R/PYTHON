{
  "cells": [
    {
      "cell_type": "markdown",
      "metadata": {
        "id": "view-in-github",
        "colab_type": "text"
      },
      "source": [
        "<a href=\"https://colab.research.google.com/github/RAGHUL-K-R/PYTHON/blob/main/UNIT_5_EXERCISE.ipynb\" target=\"_parent\"><img src=\"https://colab.research.google.com/assets/colab-badge.svg\" alt=\"Open In Colab\"/></a>"
      ]
    },
    {
      "cell_type": "code",
      "execution_count": null,
      "id": "b47b0cd3",
      "metadata": {
        "id": "b47b0cd3"
      },
      "outputs": [],
      "source": [
        "import pandas as pd\n",
        "import numpy as np\n",
        "import random"
      ]
    },
    {
      "cell_type": "markdown",
      "id": "3fbb8e54",
      "metadata": {
        "id": "3fbb8e54"
      },
      "source": [
        "### Write a code to generate the following series\n",
        "![image.png](attachment:image.png)"
      ]
    },
    {
      "cell_type": "code",
      "execution_count": null,
      "id": "b88c8911",
      "metadata": {
        "id": "b88c8911",
        "outputId": "b7979373-e14e-43cf-8ab9-3878341d8f0d",
        "colab": {
          "base_uri": "https://localhost:8080/"
        }
      },
      "outputs": [
        {
          "output_type": "stream",
          "name": "stdout",
          "text": [
            "[[1 0 6]\n",
            " [1 1 5]\n",
            " [3 4 6]]\n"
          ]
        }
      ],
      "source": [
        "s = pd.Series([0,7,14,21,28,35,42,49,56,63,70,77,84,91,98])\n",
        "arr = np.random.randint(7, size=(3, 3))\n",
        "print(arr)"
      ]
    },
    {
      "cell_type": "markdown",
      "id": "3516bf04",
      "metadata": {
        "id": "3516bf04"
      },
      "source": [
        "### Write a Code to convert a 1-D array to a 3-D array\n",
        "![image.png](attachment:image.png)"
      ]
    },
    {
      "cell_type": "code",
      "execution_count": null,
      "id": "ae0c7552",
      "metadata": {
        "id": "ae0c7552",
        "outputId": "e3baa869-f02c-420e-8142-e622e1de7255",
        "colab": {
          "base_uri": "https://localhost:8080/"
        }
      },
      "outputs": [
        {
          "output_type": "stream",
          "name": "stdout",
          "text": [
            "[[[ 0  1  2]\n",
            "  [ 3  4  5]\n",
            "  [ 6  7  8]]\n",
            "\n",
            " [[ 9 10 11]\n",
            "  [12 13 14]\n",
            "  [15 16 17]]\n",
            "\n",
            " [[18 19 20]\n",
            "  [21 22 23]\n",
            "  [24 25 26]]]\n"
          ]
        }
      ],
      "source": [
        "a = np.arange(27)\n",
        "b = a.reshape(3,3,3)\n",
        "print(b)"
      ]
    },
    {
      "cell_type": "markdown",
      "id": "8a0d35c6",
      "metadata": {
        "id": "8a0d35c6"
      },
      "source": [
        "### Combine the given two arrays as below\n",
        "\n",
        "**Given Array**\n",
        "\n",
        "![image-2.png](attachment:image-2.png)\n",
        "\n",
        "**Resultant Array**\n",
        "\n",
        "![image.png](attachment:image.png)"
      ]
    },
    {
      "cell_type": "code",
      "execution_count": null,
      "id": "910aba40",
      "metadata": {
        "id": "910aba40"
      },
      "outputs": [],
      "source": []
    },
    {
      "cell_type": "markdown",
      "id": "39fe320e",
      "metadata": {
        "id": "39fe320e"
      },
      "source": [
        "### Generate of given count of equally spaced 10 numbers within a range of 0 to 100\n",
        "\n",
        "![image.png](attachment:image.png)"
      ]
    },
    {
      "cell_type": "code",
      "execution_count": null,
      "id": "ee1d9e98",
      "metadata": {
        "id": "ee1d9e98"
      },
      "outputs": [],
      "source": []
    },
    {
      "cell_type": "markdown",
      "id": "440fe959",
      "metadata": {
        "id": "440fe959"
      },
      "source": [
        "### Generate the matrix of with 5 rows and 5 columns and assign to one value \"999\""
      ]
    },
    {
      "cell_type": "code",
      "execution_count": null,
      "id": "16397d60",
      "metadata": {
        "id": "16397d60"
      },
      "outputs": [],
      "source": []
    },
    {
      "cell_type": "markdown",
      "id": "c4a6156b",
      "metadata": {
        "id": "c4a6156b"
      },
      "source": [
        "### Generate the series as below\n",
        "\n",
        "![image.png](attachment:image.png)\n"
      ]
    },
    {
      "cell_type": "code",
      "execution_count": null,
      "id": "70b7e119",
      "metadata": {
        "id": "70b7e119"
      },
      "outputs": [],
      "source": [
        "Jan = pd.Series([26,48,65,64,88],index=[\"Drygrapes\",\"Cashew\",\"Walnut\",\"Fig\",\"Dates\"],name=\"Jan Month Sales of Dry Fruits\")\n",
        "Feb = pd.Series([50,38,62,78,93],index=[\"Drygrapes\",\"Cashew\",\"Walnut\",\"Fig\",\"Dates\"],name=\"Feb Month Sales of Dry Fruits\")\n",
        "print(Jan)\n",
        "print(Feb)"
      ]
    },
    {
      "cell_type": "markdown",
      "id": "23ea147a",
      "metadata": {
        "id": "23ea147a"
      },
      "source": [
        "### Find the sales difference of two months Jan and Feb and generate the output as below\n",
        "\n",
        "![image.png](attachment:image.png)"
      ]
    },
    {
      "cell_type": "code",
      "execution_count": null,
      "id": "613af93d",
      "metadata": {
        "id": "613af93d"
      },
      "outputs": [],
      "source": []
    },
    {
      "cell_type": "markdown",
      "id": "18673463",
      "metadata": {
        "id": "18673463"
      },
      "source": [
        "### Display the Dryfruits that have an increased its sales in the Feb month compared to Jan month\n",
        "\n",
        "![image.png](attachment:image.png)"
      ]
    },
    {
      "cell_type": "code",
      "execution_count": null,
      "id": "cea2d91b",
      "metadata": {
        "id": "cea2d91b"
      },
      "outputs": [],
      "source": []
    },
    {
      "cell_type": "markdown",
      "id": "09d7ce22",
      "metadata": {
        "id": "09d7ce22"
      },
      "source": [
        "## Calculate the percentage of increase in sales\n",
        "\n",
        "**Formula = (Sales in Jan month - Sales in Feb Month)/Sales of Feb month * 100**\n",
        "\n",
        "And Display the result as below\n",
        "\n",
        "![image.png](attachment:image.png)"
      ]
    },
    {
      "cell_type": "code",
      "execution_count": null,
      "id": "e21b5ab4",
      "metadata": {
        "id": "e21b5ab4"
      },
      "outputs": [],
      "source": []
    },
    {
      "cell_type": "markdown",
      "id": "da73c089",
      "metadata": {
        "id": "da73c089"
      },
      "source": [
        "### Use the above generate series and generate the below dataframe.\n",
        "\n",
        "![image.png](attachment:image.png)\n"
      ]
    },
    {
      "cell_type": "code",
      "execution_count": null,
      "id": "b27e88b0",
      "metadata": {
        "id": "b27e88b0"
      },
      "outputs": [],
      "source": []
    },
    {
      "cell_type": "markdown",
      "id": "4233a5c8",
      "metadata": {
        "id": "4233a5c8"
      },
      "source": [
        "### Rename the column name of Percentage of sales as below.\n",
        "\n",
        "![image.png](attachment:image.png)"
      ]
    },
    {
      "cell_type": "code",
      "execution_count": null,
      "id": "39316061",
      "metadata": {
        "id": "39316061"
      },
      "outputs": [],
      "source": []
    },
    {
      "cell_type": "markdown",
      "id": "fe244ba9",
      "metadata": {
        "id": "fe244ba9"
      },
      "source": [
        "### Replace the NAN values with '0' as below\n",
        "\n",
        "![image.png](attachment:image.png)"
      ]
    },
    {
      "cell_type": "code",
      "execution_count": null,
      "id": "ff1b887f",
      "metadata": {
        "id": "ff1b887f"
      },
      "outputs": [],
      "source": []
    },
    {
      "cell_type": "markdown",
      "id": "7e0750ad",
      "metadata": {
        "id": "7e0750ad"
      },
      "source": [
        "### Round of the profit percentage to two decimal values as below.\n",
        "\n",
        "![image.png](attachment:image.png)"
      ]
    },
    {
      "cell_type": "code",
      "execution_count": null,
      "id": "8e6a27e7",
      "metadata": {
        "id": "8e6a27e7"
      },
      "outputs": [],
      "source": []
    },
    {
      "cell_type": "markdown",
      "id": "9fb1504e",
      "metadata": {
        "id": "9fb1504e"
      },
      "source": [
        "## Generate the Dataframe as below which describes about the step count of 5 persons.\n",
        "\n",
        "![image.png](attachment:image.png)"
      ]
    },
    {
      "cell_type": "code",
      "execution_count": null,
      "id": "be7fd3a7",
      "metadata": {
        "id": "be7fd3a7"
      },
      "outputs": [],
      "source": []
    },
    {
      "cell_type": "markdown",
      "id": "695b91e7",
      "metadata": {
        "id": "695b91e7"
      },
      "source": [
        "## Add the column \"Total Step count\" as below which consist of total step count for 7 days and if the sum value is float convert that to integer\n",
        "\n",
        "![image.png](attachment:image.png)"
      ]
    },
    {
      "cell_type": "code",
      "execution_count": null,
      "id": "6fdcd20f",
      "metadata": {
        "id": "6fdcd20f"
      },
      "outputs": [],
      "source": []
    },
    {
      "cell_type": "markdown",
      "id": "e2cd4ff4",
      "metadata": {
        "id": "e2cd4ff4"
      },
      "source": [
        "## Calculate the average step count for each person as below\n",
        "\n",
        "![image.png](attachment:image.png)"
      ]
    },
    {
      "cell_type": "code",
      "execution_count": null,
      "id": "5289b5d5",
      "metadata": {
        "id": "5289b5d5"
      },
      "outputs": [],
      "source": []
    },
    {
      "cell_type": "markdown",
      "id": "46a30c89",
      "metadata": {
        "id": "46a30c89"
      },
      "source": [
        "## Average step count need to rounded off to one decimal and add it as a new column to the dataframe.\n",
        "\n",
        "![image.png](attachment:image.png)"
      ]
    },
    {
      "cell_type": "code",
      "execution_count": null,
      "id": "ff8d7c8a",
      "metadata": {
        "id": "ff8d7c8a"
      },
      "outputs": [],
      "source": []
    },
    {
      "cell_type": "markdown",
      "id": "0e3f7424",
      "metadata": {
        "id": "0e3f7424"
      },
      "source": [
        "## Find the minimum step count of each person and which has to be added as the new column to the dataframe it type must be an integer\n",
        "\n",
        "![image.png](attachment:image.png)"
      ]
    },
    {
      "cell_type": "code",
      "execution_count": null,
      "id": "5195f70b",
      "metadata": {
        "id": "5195f70b"
      },
      "outputs": [],
      "source": []
    },
    {
      "cell_type": "markdown",
      "id": "e119dbcf",
      "metadata": {
        "id": "e119dbcf"
      },
      "source": [
        "##  Find the maximum step count of each person and which has to be added as the new column to the dataframe it type must be an integer\n",
        "\n",
        "![image.png](attachment:image.png)"
      ]
    },
    {
      "cell_type": "code",
      "execution_count": null,
      "id": "e5bbef7c",
      "metadata": {
        "id": "e5bbef7c"
      },
      "outputs": [],
      "source": []
    },
    {
      "cell_type": "markdown",
      "id": "691a4f93",
      "metadata": {
        "id": "691a4f93"
      },
      "source": [
        "## Display the name of the person whose average step count is minimum.\n",
        "\n",
        "![image.png](attachment:image.png)"
      ]
    },
    {
      "cell_type": "markdown",
      "id": "90a794c7",
      "metadata": {
        "id": "90a794c7"
      },
      "source": [
        "________________________________________________"
      ]
    },
    {
      "cell_type": "markdown",
      "id": "58fd2098",
      "metadata": {
        "id": "58fd2098"
      },
      "source": [
        "# Load the student database \"student_exercise\""
      ]
    },
    {
      "cell_type": "code",
      "execution_count": null,
      "id": "2da6e60d",
      "metadata": {
        "id": "2da6e60d"
      },
      "outputs": [],
      "source": []
    },
    {
      "cell_type": "markdown",
      "id": "37ee96c0",
      "metadata": {
        "id": "37ee96c0"
      },
      "source": [
        "## Display the columns of the dataframes"
      ]
    },
    {
      "cell_type": "code",
      "execution_count": null,
      "id": "9e326877",
      "metadata": {
        "id": "9e326877"
      },
      "outputs": [],
      "source": []
    },
    {
      "cell_type": "markdown",
      "id": "69f7229f",
      "metadata": {
        "id": "69f7229f"
      },
      "source": [
        "## Display the descriptive statistics of numeric columns in the DataFrame"
      ]
    },
    {
      "cell_type": "code",
      "execution_count": null,
      "id": "b6fd2ebd",
      "metadata": {
        "id": "b6fd2ebd"
      },
      "outputs": [],
      "source": []
    },
    {
      "cell_type": "markdown",
      "id": "df5c18e0",
      "metadata": {
        "id": "df5c18e0"
      },
      "source": [
        "## Display the details of top 5 student based on their marks"
      ]
    },
    {
      "cell_type": "code",
      "execution_count": null,
      "id": "f36a9728",
      "metadata": {
        "id": "f36a9728"
      },
      "outputs": [],
      "source": []
    },
    {
      "cell_type": "markdown",
      "id": "68854d90",
      "metadata": {
        "id": "68854d90"
      },
      "source": [
        "## Display the first 5 records of NAME column of the DataFrame"
      ]
    },
    {
      "cell_type": "code",
      "execution_count": null,
      "id": "2d16a6a3",
      "metadata": {
        "id": "2d16a6a3"
      },
      "outputs": [],
      "source": []
    },
    {
      "cell_type": "markdown",
      "id": "faef7a58",
      "metadata": {
        "id": "faef7a58"
      },
      "source": [
        "## filter rows where the \"Mark\" column is greater than 60"
      ]
    },
    {
      "cell_type": "code",
      "execution_count": null,
      "id": "41f30966",
      "metadata": {
        "id": "41f30966"
      },
      "outputs": [],
      "source": []
    },
    {
      "cell_type": "markdown",
      "id": "4529db3c",
      "metadata": {
        "id": "4529db3c"
      },
      "source": [
        "## fill missing values with a specific value or with zero"
      ]
    },
    {
      "cell_type": "code",
      "execution_count": null,
      "id": "93396df2",
      "metadata": {
        "id": "93396df2"
      },
      "outputs": [],
      "source": []
    },
    {
      "cell_type": "markdown",
      "id": "bff25e34",
      "metadata": {
        "id": "bff25e34"
      },
      "source": [
        "## filter rows where the \"class\" column is Three and the \"mark\" column is More than 50."
      ]
    },
    {
      "cell_type": "code",
      "execution_count": null,
      "id": "ccb10ebb",
      "metadata": {
        "id": "ccb10ebb"
      },
      "outputs": [],
      "source": []
    },
    {
      "cell_type": "markdown",
      "id": "ec4f1294",
      "metadata": {
        "id": "ec4f1294"
      },
      "source": [
        "## Display the total number of missing values in each column"
      ]
    },
    {
      "cell_type": "code",
      "execution_count": null,
      "id": "c6c6524d",
      "metadata": {
        "id": "c6c6524d"
      },
      "outputs": [],
      "source": []
    },
    {
      "cell_type": "markdown",
      "id": "b191583f",
      "metadata": {
        "id": "b191583f"
      },
      "source": [
        "## Randomly select 7 rows (sample) from a DataFrame"
      ]
    },
    {
      "cell_type": "markdown",
      "id": "759577d0",
      "metadata": {
        "id": "759577d0"
      },
      "source": []
    }
  ],
  "metadata": {
    "kernelspec": {
      "display_name": "Python 3 (ipykernel)",
      "language": "python",
      "name": "python3"
    },
    "language_info": {
      "codemirror_mode": {
        "name": "ipython",
        "version": 3
      },
      "file_extension": ".py",
      "mimetype": "text/x-python",
      "name": "python",
      "nbconvert_exporter": "python",
      "pygments_lexer": "ipython3",
      "version": "3.9.7"
    },
    "colab": {
      "provenance": [],
      "include_colab_link": true
    }
  },
  "nbformat": 4,
  "nbformat_minor": 5
}